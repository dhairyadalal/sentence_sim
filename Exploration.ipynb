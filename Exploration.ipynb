{
 "cells": [
  {
   "cell_type": "code",
   "execution_count": 1,
   "metadata": {},
   "outputs": [],
   "source": [
    "with open(\"data/msr/msr-para-train.tsv\", \"r\") as f:\n",
    "    lines = f.readlines()"
   ]
  },
  {
   "cell_type": "code",
   "execution_count": 2,
   "metadata": {},
   "outputs": [
    {
     "data": {
      "text/plain": [
       "['\\ufeffQuality', '#1 ID', '#2 ID', '#1 String', '#2 String\\n']"
      ]
     },
     "execution_count": 2,
     "metadata": {},
     "output_type": "execute_result"
    }
   ],
   "source": [
    "lines[0].split(\"\\t\")"
   ]
  },
  {
   "cell_type": "code",
   "execution_count": 3,
   "metadata": {},
   "outputs": [],
   "source": [
    "from typing import List\n",
    "class MSRexample(object):\n",
    "    \n",
    "    def __init__(self, line: List[str]):\n",
    "        self.label = int(line[0].strip())\n",
    "        self.text1_id = line[1].strip()\n",
    "        self.text2_id = line[2].strip()\n",
    "        self.text1 = line[3].strip()\n",
    "        self.text2 = line[4].strip()\n",
    "        "
   ]
  },
  {
   "cell_type": "code",
   "execution_count": 4,
   "metadata": {},
   "outputs": [],
   "source": [
    "dataset = []\n",
    "for line in lines[1:]:\n",
    "    l = line.split('\\t')\n",
    "    if len(l) != 5:\n",
    "        continue\n",
    "    \n",
    "    dataset.append(MSRexample(l))\n",
    "    \n"
   ]
  },
  {
   "cell_type": "code",
   "execution_count": 5,
   "metadata": {},
   "outputs": [
    {
     "data": {
      "text/plain": [
       "(True, 0.9999999999999998)"
      ]
     },
     "execution_count": 5,
     "metadata": {},
     "output_type": "execute_result"
    }
   ],
   "source": [
    "from sklearn.feature_extraction.text import TfidfVectorizer\n",
    "from string import punctuation\n",
    "import spacy \n",
    "\n",
    "\n",
    "nlp = spacy.load('en')\n",
    "\n",
    "a = \"That cat is cool.\"\n",
    "b = \"The cats are cool.\"\n",
    "\n",
    "def strip_lemmatize(text: str) -> str:\n",
    "    text = text if text[-1] not in punctuation else text[:-1]\n",
    "    lemmas = \" \".join([tok.lemma_ for tok in nlp(text) if tok.text != \"-PRON-\"])\n",
    "    return lemmas\n",
    "\n",
    "def simple_baseline(text1: str, text2: str, threshold = .85) -> bool:\n",
    "    text1 = strip_lemmatize(text1)\n",
    "    text2 = strip_lemmatize(text2)\n",
    "    \n",
    "    tfidf = TfidfVectorizer(stop_words=\"english\")\n",
    "    tfidf = tfidf.fit_transform([text1,text2])\n",
    "    sim_score = (tfidf * tfidf.T).toarray()[0,1]\n",
    "    return sim_score > threshold, sim_score\n",
    "\n",
    "simple_baseline(a,b)"
   ]
  },
  {
   "cell_type": "code",
   "execution_count": 47,
   "metadata": {},
   "outputs": [],
   "source": [
    "baseline_res = []\n",
    "for ex in dataset:\n",
    "    res, score = simple_baseline(ex.text1, ex.text2)\n",
    "    \n",
    "    baseline_res.append(int(res) == ex.label)"
   ]
  },
  {
   "cell_type": "code",
   "execution_count": 48,
   "metadata": {},
   "outputs": [
    {
     "data": {
      "text/plain": [
       "0.39793064876957496"
      ]
     },
     "execution_count": 48,
     "metadata": {},
     "output_type": "execute_result"
    }
   ],
   "source": [
    "import numpy as np\n",
    "\n",
    "np.mean(baseline_res)"
   ]
  },
  {
   "cell_type": "code",
   "execution_count": 10,
   "metadata": {},
   "outputs": [
    {
     "data": {
      "text/plain": [
       "IncompatibleKeys(missing_keys=[], unexpected_keys=[])"
      ]
     },
     "execution_count": 10,
     "metadata": {},
     "output_type": "execute_result"
    }
   ],
   "source": [
    "from InferSent.models import InferSent\n",
    "import torch \n",
    "\n",
    "model_version = 2\n",
    "MODEL_PATH = \"InferSent/encoder/infersent%s.pkl\" % model_version\n",
    "params_model = {'bsize': 64, 'word_emb_dim': 300, 'enc_lstm_dim': 2048,\n",
    "                'pool_type': 'max', 'dpout_model': 0.0, 'version': model_version}\n",
    "model = InferSent(params_model)\n",
    "model.load_state_dict(torch.load(MODEL_PATH))"
   ]
  },
  {
   "cell_type": "code",
   "execution_count": 11,
   "metadata": {},
   "outputs": [],
   "source": [
    "#use_cuda = False\n",
    "#model = model.cuda() if use_cuda else model\n",
    "\n",
    "device = torch.device('cuda' if torch.cuda.is_available() else 'cpu')\n",
    "\n",
    "model.to(device)\n",
    "\n",
    "W2V_PATH = 'GloVe/glove.840B.300d.txt' if model_version == 1 else 'InferSent/fastText/crawl-300d-2M.vec'\n",
    "model.set_w2v_path(W2V_PATH)"
   ]
  },
  {
   "cell_type": "code",
   "execution_count": 12,
   "metadata": {},
   "outputs": [
    {
     "name": "stdout",
     "output_type": "stream",
     "text": [
      "Vocab size : 1000\n"
     ]
    }
   ],
   "source": [
    "model.build_vocab_k_words(1000)"
   ]
  },
  {
   "cell_type": "code",
   "execution_count": 17,
   "metadata": {},
   "outputs": [],
   "source": [
    "from sklearn.metrics.pairwise import paired_distances\n",
    "\n",
    "def infersent_sim(text1, text2, model, threshold = .85):\n",
    "    \n",
    "    text1_embed = model.encode([text1])\n",
    "    text2_embed = model.encode([text2])\n",
    "    score = 1 - paired_distances(text1_embed, text2_embed, metric=\"cosine\")[0]\n",
    "    \n",
    "    return score > threshold, score\n"
   ]
  },
  {
   "cell_type": "code",
   "execution_count": 18,
   "metadata": {},
   "outputs": [
    {
     "name": "stdout",
     "output_type": "stream",
     "text": [
      "total time:  179.0857310295105\n",
      "0.555089485458613\n"
     ]
    }
   ],
   "source": [
    "import numpy as np\n",
    "import time\n",
    "model.to(\"cuda\")\n",
    "s = time.time()\n",
    "infersent_res = []\n",
    "for ex in dataset:\n",
    "    res, score = infersent_sim(ex.text1, ex.text2, model)\n",
    "    \n",
    "    infersent_res.append(int(res) == ex.label)\n",
    "\n",
    "e = time.time()\n",
    "\n",
    "print(\"total time: \", e-s)\n",
    "\n",
    "print(np.mean(infersent_res))"
   ]
  },
  {
   "cell_type": "code",
   "execution_count": 15,
   "metadata": {},
   "outputs": [
    {
     "data": {
      "text/plain": [
       "0.6730984340044742"
      ]
     },
     "execution_count": 15,
     "metadata": {},
     "output_type": "execute_result"
    }
   ],
   "source": [
    "import numpy as np\n",
    "\n",
    "np.mean(infersent_res)"
   ]
  },
  {
   "cell_type": "code",
   "execution_count": null,
   "metadata": {},
   "outputs": [],
   "source": []
  }
 ],
 "metadata": {
  "kernelspec": {
   "display_name": "Python 3",
   "language": "python",
   "name": "python3"
  },
  "language_info": {
   "codemirror_mode": {
    "name": "ipython",
    "version": 3
   },
   "file_extension": ".py",
   "mimetype": "text/x-python",
   "name": "python",
   "nbconvert_exporter": "python",
   "pygments_lexer": "ipython3",
   "version": "3.7.2"
  }
 },
 "nbformat": 4,
 "nbformat_minor": 2
}
