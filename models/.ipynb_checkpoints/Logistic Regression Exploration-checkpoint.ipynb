{
 "cells": [
  {
   "cell_type": "code",
   "execution_count": 25,
   "metadata": {},
   "outputs": [],
   "source": [
    "import pandas as pd\n",
    "\n",
    "dat = pd.read_csv(\"../data/msr-paraphrase/msr_combined.csv\")\n",
    "\n",
    "# train = \"../data/msr-paraphrase/msr-para-train.tsv\"\n",
    "# val = \"../data/msr-paraphrase/msr-para-val.tsv\"\n",
    "# test = \"../data/msr-paraphrase/msr-para-test.tsv\"\n",
    "\n",
    "# def read_msr(filepath: str, source: str) -> pd.DataFrame:\n",
    "#     rows = []\n",
    "#     with open(filepath, \"r\") as f:\n",
    "#         lines = f.readlines()\n",
    "        \n",
    "#     for line in lines[1:]:\n",
    "#         line = line.split(sep=\"\\t\")\n",
    "#         rows.append({\"label\": line[0],\n",
    "#                      \"text1_id\": line[1],\n",
    "#                      \"text2_id\": line[2],\n",
    "#                      \"text1\": line[3],\n",
    "#                      \"text2\": line[4],\n",
    "#                      \"source\": source})\n",
    "        \n",
    "#     return pd.DataFrame(rows)\n",
    "        \n",
    "# train = read_msr(train, \"train\")\n",
    "# val = read_msr(val, \"validation\")\n",
    "# test = read_msr(test, \"test\")\n",
    "\n",
    "# dat = pd.concat([train,val,test], axis=0).reset_index()\n",
    "# dat.to_csv(\"../data/msr-paraphrase/msr_combined.csv\", index_label=False, index=False)"
   ]
  },
  {
   "cell_type": "code",
   "execution_count": 34,
   "metadata": {},
   "outputs": [],
   "source": [
    "train = dat.query(\"source=='train'\")\n",
    "val = dat.query(\"source=='validation'\")\n",
    "test = dat.query(\"source=='test'\")"
   ]
  },
  {
   "cell_type": "code",
   "execution_count": 32,
   "metadata": {},
   "outputs": [
    {
     "data": {
      "text/plain": [
       "source\n",
       "test          1725\n",
       "train         3576\n",
       "validation     500\n",
       "dtype: int64"
      ]
     },
     "execution_count": 32,
     "metadata": {},
     "output_type": "execute_result"
    }
   ],
   "source": []
  },
  {
   "cell_type": "code",
   "execution_count": null,
   "metadata": {},
   "outputs": [],
   "source": []
  }
 ],
 "metadata": {
  "kernelspec": {
   "display_name": "Python 3",
   "language": "python",
   "name": "python3"
  },
  "language_info": {
   "codemirror_mode": {
    "name": "ipython",
    "version": 3
   },
   "file_extension": ".py",
   "mimetype": "text/x-python",
   "name": "python",
   "nbconvert_exporter": "python",
   "pygments_lexer": "ipython3",
   "version": "3.7.2"
  }
 },
 "nbformat": 4,
 "nbformat_minor": 2
}
